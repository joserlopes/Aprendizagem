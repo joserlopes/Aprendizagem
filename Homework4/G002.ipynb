{
 "cells": [
  {
   "cell_type": "markdown",
   "metadata": {},
   "source": [
    "# 0) Loading Data"
   ]
  },
  {
   "cell_type": "code",
   "execution_count": 51,
   "metadata": {},
   "outputs": [
    {
     "data": {
      "text/plain": [
       "array([[0.35568788, 0.51989984, 0.22917997, 0.2508573 , 0.30746116,\n",
       "        0.02514839],\n",
       "       [0.12450104, 0.2967831 , 0.09857833, 0.14462935, 0.47664891,\n",
       "        0.03636497],\n",
       "       [0.41166648, 0.51393229, 0.32299466, 0.30766054, 0.38609692,\n",
       "        0.0175229 ],\n",
       "       ...,\n",
       "       [0.34043781, 0.52244298, 0.28789745, 0.23490726, 0.59779618,\n",
       "        0.01943732],\n",
       "       [0.18425678, 0.27235174, 0.24684569, 0.21462279, 0.52117504,\n",
       "        0.02624045],\n",
       "       [0.07420202, 0.20770855, 0.20261992, 0.14251659, 0.57924032,\n",
       "        0.02527676]])"
      ]
     },
     "execution_count": 51,
     "metadata": {},
     "output_type": "execute_result"
    }
   ],
   "source": [
    "import warnings\n",
    "import pandas as pd\n",
    "import numpy as np\n",
    "\n",
    "from scipy.io.arff import loadarff\n",
    "from sklearn.cluster import KMeans\n",
    "from sklearn.metrics import silhouette_score, confusion_matrix\n",
    "from sklearn.preprocessing import MinMaxScaler\n",
    "\n",
    "warnings.simplefilter(\"ignore\", category=FutureWarning)\n",
    "\n",
    "\n",
    "#Reading the ARFF file and normalizing it's data\n",
    "data = loadarff('column_diagnosis.arff')\n",
    "df = pd.DataFrame(data[0])\n",
    "df['class'] = df['class'].str.decode('utf-8')\n",
    "df.head()\n",
    "\n",
    "scaler = MinMaxScaler()\n",
    "X = np.array(df.drop('class', axis=1))\n",
    "y = np.array(df['class'])\n",
    "X = scaler.fit_transform(X, y)\n",
    "X"
   ]
  },
  {
   "cell_type": "markdown",
   "metadata": {},
   "source": [
    "## Exercise 1)"
   ]
  },
  {
   "cell_type": "code",
   "execution_count": 71,
   "metadata": {},
   "outputs": [
    {
     "name": "stdout",
     "output_type": "stream",
     "text": [
      "0.36044124340441114 0.632258064516129\n",
      "0.29579055730002257 0.667741935483871\n",
      "0.27442402122340176 0.6612903225806451\n",
      "0.23823928397844843 0.6774193548387096\n"
     ]
    }
   ],
   "source": [
    "def purity_score(y_true, labels):\n",
    "    cluster_scores = {}\n",
    "    purity = 0\n",
    "    for index, closest_cluster in enumerate(labels):\n",
    "        correct_out = y_true[index]\n",
    "        if closest_cluster not in cluster_scores:\n",
    "            cluster_scores[closest_cluster] = {}\n",
    "            if correct_out not in cluster_scores[closest_cluster]:\n",
    "                cluster_scores[closest_cluster][correct_out] = 1\n",
    "            else:\n",
    "                cluster_scores[closest_cluster][correct_out] += 1\n",
    "        else:\n",
    "            if correct_out not in cluster_scores[closest_cluster]:\n",
    "                cluster_scores[closest_cluster][correct_out] = 1\n",
    "            else:\n",
    "                cluster_scores[closest_cluster][correct_out] += 1\n",
    "    for cluster_score in cluster_scores.values():\n",
    "        purity += max(cluster_score.values())\n",
    "    purity = purity / len(y_true)\n",
    "\n",
    "    return purity\n",
    "\n",
    "for k in (2, 3, 4, 5):\n",
    "    KmeansCluster = KMeans(n_clusters=k, random_state=0)\n",
    "    KmeansCluster.fit(X)\n",
    "    labels = KmeansCluster.predict(X)\n",
    "    silhouette = silhouette_score(X, labels)\n",
    "    purity = purity_score(y, labels)\n",
    "    print(silhouette, purity)\n"
   ]
  }
 ],
 "metadata": {
  "kernelspec": {
   "display_name": "Python 3",
   "language": "python",
   "name": "python3"
  },
  "language_info": {
   "codemirror_mode": {
    "name": "ipython",
    "version": 3
   },
   "file_extension": ".py",
   "mimetype": "text/x-python",
   "name": "python",
   "nbconvert_exporter": "python",
   "pygments_lexer": "ipython3",
   "version": "3.12.0"
  }
 },
 "nbformat": 4,
 "nbformat_minor": 2
}

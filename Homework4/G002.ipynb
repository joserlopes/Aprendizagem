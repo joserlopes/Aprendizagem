{
 "cells": [
  {
   "cell_type": "markdown",
   "metadata": {},
   "source": [
    "# 0) Loading Data"
   ]
  },
  {
   "cell_type": "code",
   "execution_count": 33,
   "metadata": {},
   "outputs": [],
   "source": [
    "import warnings\n",
    "import pandas as pd\n",
    "import numpy as np\n",
    "import matplotlib.pyplot as plt\n",
    "\n",
    "from scipy.io.arff import loadarff\n",
    "from sklearn.cluster import KMeans\n",
    "from sklearn.metrics import silhouette_score\n",
    "from sklearn.preprocessing import MinMaxScaler\n",
    "from sklearn.decomposition import PCA\n",
    "\n",
    "warnings.simplefilter(\"ignore\", category=FutureWarning)\n",
    "\n",
    "\n",
    "#Reading the ARFF file and normalizing it's data\n",
    "data = loadarff('column_diagnosis.arff')\n",
    "df = pd.DataFrame(data[0])\n",
    "df['class'] = df['class'].str.decode('utf-8')\n",
    "df.head()\n",
    "\n",
    "scaler = MinMaxScaler()\n",
    "X = np.array(df.drop('class', axis=1))\n",
    "y = np.array(df['class'])\n",
    "X = scaler.fit_transform(X, y)"
   ]
  },
  {
   "cell_type": "markdown",
   "metadata": {},
   "source": [
    "## Exercise 1)"
   ]
  },
  {
   "cell_type": "code",
   "execution_count": 34,
   "metadata": {},
   "outputs": [
    {
     "name": "stdout",
     "output_type": "stream",
     "text": [
      "For a value of K = 2:\n",
      "\tSilhouette value: 0.36044124340441114\n",
      "\tPurity value: 0.632258064516129\n",
      "For a value of K = 3:\n",
      "\tSilhouette value: 0.29579055730002257\n",
      "\tPurity value: 0.667741935483871\n",
      "For a value of K = 4:\n",
      "\tSilhouette value: 0.27442402122340176\n",
      "\tPurity value: 0.6612903225806451\n",
      "For a value of K = 5:\n",
      "\tSilhouette value: 0.23823928397844843\n",
      "\tPurity value: 0.6774193548387096\n"
     ]
    }
   ],
   "source": [
    "Kmeans3_labels = []\n",
    "\n",
    "def purity_score(y_true, labels):\n",
    "    cluster_scores = {}\n",
    "    purity = 0\n",
    "    for index, closest_cluster in enumerate(labels):\n",
    "        correct_out = y_true[index]\n",
    "        if closest_cluster not in cluster_scores:\n",
    "            cluster_scores[closest_cluster] = {}\n",
    "            if correct_out not in cluster_scores[closest_cluster]:\n",
    "                cluster_scores[closest_cluster][correct_out] = 1\n",
    "            else:\n",
    "                cluster_scores[closest_cluster][correct_out] += 1\n",
    "        else:\n",
    "            if correct_out not in cluster_scores[closest_cluster]:\n",
    "                cluster_scores[closest_cluster][correct_out] = 1\n",
    "            else:\n",
    "                cluster_scores[closest_cluster][correct_out] += 1\n",
    "    for cluster_score in cluster_scores.values():\n",
    "        purity += max(cluster_score.values())\n",
    "    purity = purity / len(y_true)\n",
    "\n",
    "    return purity\n",
    "\n",
    "for k in (2, 3, 4, 5):\n",
    "    KmeansCluster = KMeans(n_clusters=k, random_state=0)\n",
    "    KmeansCluster.fit(X)\n",
    "    labels = KmeansCluster.predict(X)\n",
    "    if k == 3:\n",
    "        Kmeans3_labels = labels\n",
    "    silhouette = silhouette_score(X, labels)\n",
    "    purity = purity_score(y, labels)\n",
    "    print(f\"For a value of K = {k}:\\n\\tSilhouette value: {silhouette}\\n\\tPurity value: {purity}\")\n"
   ]
  },
  {
   "cell_type": "markdown",
   "metadata": {},
   "source": [
    "From what we can see, as we increase the number of clusters in our Kmeans algorithm, the silhouette value decreases and the purity value increases. This means that a higher number of clusters reflects in a better discriminative power of each cluster, but also that each observations doesn't match as well with the ones inside the same cluster."
   ]
  },
  {
   "cell_type": "markdown",
   "metadata": {},
   "source": [
    "## Exercise 2)"
   ]
  },
  {
   "cell_type": "markdown",
   "metadata": {},
   "source": [
    "### i)"
   ]
  },
  {
   "cell_type": "code",
   "execution_count": 36,
   "metadata": {},
   "outputs": [
    {
     "name": "stdout",
     "output_type": "stream",
     "text": [
      "Variance for the first component: 56.18144484299212%\n",
      "Variance for the second component: 20.955952591361886%\n",
      "Total variability explained by the top two principal components: 77.14\n"
     ]
    }
   ],
   "source": [
    "pca = PCA(n_components=2)\n",
    "pca.fit(X)\n",
    "variance = pca.explained_variance_ratio_\n",
    "\n",
    "print(f\"Variance for the first component: {variance[0] * 100}%\\nVariance for the second component: {variance[1] * 100}%\")\n",
    "print(f\"Total variability explained by the top two principal components: {round(sum(variance), 4) * 100}\")"
   ]
  },
  {
   "cell_type": "markdown",
   "metadata": {},
   "source": [
    "### ii)"
   ]
  },
  {
   "cell_type": "code",
   "execution_count": null,
   "metadata": {},
   "outputs": [],
   "source": []
  }
 ],
 "metadata": {
  "kernelspec": {
   "display_name": "Python 3",
   "language": "python",
   "name": "python3"
  },
  "language_info": {
   "codemirror_mode": {
    "name": "ipython",
    "version": 3
   },
   "file_extension": ".py",
   "mimetype": "text/x-python",
   "name": "python",
   "nbconvert_exporter": "python",
   "pygments_lexer": "ipython3",
   "version": "3.12.0"
  }
 },
 "nbformat": 4,
 "nbformat_minor": 2
}

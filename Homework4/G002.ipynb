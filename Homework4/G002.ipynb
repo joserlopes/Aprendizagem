{
 "cells": [
  {
   "cell_type": "markdown",
   "metadata": {},
   "source": [
    "# 0) Loading Data"
   ]
  },
  {
   "cell_type": "code",
   "execution_count": 4,
   "metadata": {},
   "outputs": [],
   "source": [
    "import pandas as pd\n",
    "import numpy as np\n",
    "import seaborn as sns\n",
    "import matplotlib.pyplot as plt\n",
    "\n",
    "from scipy.io.arff import loadarff\n",
    "from sklearn.model_selection import train_test_split\n",
    "from sklearn.cluster import KMeans\n",
    "from sklearn.metrics import silhouette_score\n",
    "from sklearn.exceptions import ConvergenceWarning\n",
    "from sklearn.preprocessing import MinMaxScaler\n",
    "\n",
    "#Reading the ARFF file and normalizing it's data\n",
    "data = loadarff('column_diagnosis.arff')\n",
    "df = pd.DataFrame(data[0])\n",
    "df['class'] = df['class'].str.decode('utf-8')\n",
    "df.head()\n",
    "\n",
    "scaler = MinMaxScaler()\n",
    "X = np.array(df.drop('class', axis=1))\n",
    "y = np.array(df['class'])\n",
    "X = scaler.fit_transform(X, y)"
   ]
  },
  {
   "cell_type": "markdown",
   "metadata": {},
   "source": [
    "## Exercise 1)"
   ]
  },
  {
   "cell_type": "code",
   "execution_count": 8,
   "metadata": {},
   "outputs": [
    {
     "name": "stdout",
     "output_type": "stream",
     "text": [
      "[1 1 0 0 1 1 1 1 1 1 1 1 1 1 1 1 0 1 1 1 1 1 0 1 1 1 1 1 1 0 1 1 1 1 1 1 1\n",
      " 1 1 1 1 1 1 0 1 1 1 1 1 1 1 0 1 1 1 1 1 1 1 1 0 0 1 0 0 0 0 0 0 1 0 0 0 1\n",
      " 0 0 0 1 0 1 0 0 0 0 0 1 1 1 1 0 0 0 0 0 0 0 0 0 0 1 0 0 0 1 0 0 0 0 1 0 0\n",
      " 0 1 0 0 0 0 0 1 1 1 0 0 0 1 1 0 0 0 0 1 0 0 0 0 0 0 0 0 0 0 0 0 0 1 0 0 1\n",
      " 1 0 0 1 1 1 1 0 0 1 1 0 0 1 0 0 1 0 1 0 0 1 0 0 1 1 1 1 0 0 0 0 1 0 0 0 0\n",
      " 0 0 1 0 0 1 0 0 0 0 0 0 0 0 0 0 0 0 0 1 0 0 0 0 1 1 1 1 1 1 1 1 1 1 0 1 1\n",
      " 1 0 0 1 1 1 1 1 0 1 1 1 1 1 1 1 0 1 1 1 1 1 0 1 1 1 1 1 1 1 1 0 0 0 1 1 1\n",
      " 1 1 0 1 1 1 1 1 1 1 1 1 1 1 1 1 1 1 1 1 1 1 1 1 1 1 1 1 1 0 1 1 1 1 1 1 1\n",
      " 1 1 1 0 1 0 1 1 1 1 1 1 1 1]\n",
      "[1 0 1 1 0 0 0 0 0 0 0 0 0 0 0 0 1 0 0 0 0 0 1 0 0 0 0 0 0 1 0 0 0 0 0 0 0\n",
      " 0 0 0 0 0 0 1 1 0 0 0 0 0 0 2 0 0 0 0 0 0 0 0 2 2 0 1 2 2 1 1 1 1 1 2 2 0\n",
      " 2 2 2 1 1 0 2 1 2 2 2 0 1 0 0 1 2 1 2 1 1 2 2 1 2 1 2 1 1 1 2 1 1 2 1 1 1\n",
      " 2 1 1 2 2 1 2 0 1 0 2 2 1 1 1 1 1 2 1 0 1 1 2 1 2 2 2 2 2 1 2 2 1 1 2 2 1\n",
      " 1 1 1 0 1 1 0 1 2 0 1 1 2 1 2 2 0 2 1 1 2 0 1 1 1 1 1 1 1 1 2 2 0 1 2 2 2\n",
      " 2 1 1 2 2 1 2 2 1 1 1 1 2 1 1 1 2 2 1 1 2 2 2 2 0 0 0 0 0 0 0 0 0 0 1 0 0\n",
      " 1 1 2 1 1 1 0 0 1 0 0 0 0 1 1 1 1 0 0 0 0 0 1 0 0 0 0 0 0 0 0 1 1 1 0 0 0\n",
      " 1 0 1 0 0 1 0 0 0 0 0 0 0 0 0 0 1 0 1 0 0 0 1 0 0 0 1 1 0 1 0 0 0 0 0 0 0\n",
      " 0 0 0 2 0 2 0 0 0 0 0 0 0 0]\n",
      "[3 1 3 3 1 1 1 1 1 1 1 1 1 1 3 1 3 1 1 1 1 1 3 1 1 1 1 1 1 3 1 1 1 1 0 1 1\n",
      " 1 1 1 1 1 1 3 3 1 1 1 1 1 1 0 1 1 1 1 1 1 1 1 0 0 1 2 2 0 3 2 3 3 3 0 0 1\n",
      " 0 0 0 3 3 1 0 3 0 0 0 1 3 1 1 3 0 3 2 3 2 0 2 2 2 3 2 2 3 3 0 3 3 0 3 3 3\n",
      " 0 3 3 0 2 3 0 3 3 1 2 0 3 3 3 3 2 2 3 1 3 3 2 3 0 0 0 2 2 3 0 2 3 3 0 0 3\n",
      " 3 3 2 1 3 3 1 3 0 1 3 3 0 3 2 2 1 2 3 3 2 1 3 2 3 3 3 3 3 2 0 0 1 3 0 0 2\n",
      " 2 2 3 0 0 3 0 0 3 3 2 3 0 3 3 3 0 0 3 3 0 0 2 2 1 1 1 1 1 1 1 1 1 1 3 1 1\n",
      " 3 3 2 3 3 3 1 1 3 1 1 1 1 3 3 3 3 1 1 1 1 1 3 1 1 1 1 1 1 1 1 3 3 3 1 1 1\n",
      " 3 1 3 1 1 3 1 1 1 3 1 1 1 1 1 1 3 1 3 1 1 1 3 1 1 3 3 3 1 3 1 1 1 1 1 1 1\n",
      " 1 1 1 0 1 2 1 1 1 1 1 3 1 1]\n",
      "[0 2 0 0 2 2 0 2 2 3 2 2 0 0 0 2 0 2 2 2 2 0 0 2 2 0 2 2 2 0 0 3 2 2 0 2 2\n",
      " 2 0 0 2 2 0 0 0 0 0 2 2 2 0 0 0 2 2 3 2 2 2 2 1 1 2 4 4 1 4 4 0 3 0 1 1 0\n",
      " 1 1 1 3 0 2 1 4 4 1 1 2 0 2 0 0 4 4 4 3 4 1 4 4 4 0 4 4 3 3 1 0 3 1 3 0 0\n",
      " 1 3 3 1 4 4 1 0 0 0 4 1 3 0 3 4 4 4 4 3 0 0 4 0 1 1 1 4 4 4 1 4 0 3 1 1 3\n",
      " 3 4 4 2 0 0 3 3 4 3 3 3 1 3 4 4 2 4 3 3 4 3 0 4 3 3 0 3 3 4 4 1 2 3 1 1 4\n",
      " 4 4 3 1 1 3 1 1 4 4 4 3 1 4 4 0 1 1 3 3 1 1 4 4 3 2 0 2 2 2 2 2 2 2 0 2 0\n",
      " 0 4 4 0 0 0 2 2 0 0 2 2 2 0 0 0 0 0 2 2 2 2 0 2 2 2 2 0 2 2 3 0 4 0 0 2 2\n",
      " 0 0 4 2 2 3 2 2 2 0 2 0 2 2 2 2 0 2 0 2 2 2 0 0 2 0 0 0 2 4 2 2 2 2 2 2 2\n",
      " 2 2 0 4 2 4 0 2 2 2 0 0 2 2]\n"
     ]
    },
    {
     "name": "stderr",
     "output_type": "stream",
     "text": [
      "/home/joselopes/.local/lib/python3.12/site-packages/sklearn/cluster/_kmeans.py:1416: FutureWarning: The default value of `n_init` will change from 10 to 'auto' in 1.4. Set the value of `n_init` explicitly to suppress the warning\n",
      "  super()._check_params_vs_input(X, default_n_init=10)\n",
      "/home/joselopes/.local/lib/python3.12/site-packages/sklearn/cluster/_kmeans.py:1416: FutureWarning: The default value of `n_init` will change from 10 to 'auto' in 1.4. Set the value of `n_init` explicitly to suppress the warning\n",
      "  super()._check_params_vs_input(X, default_n_init=10)\n",
      "/home/joselopes/.local/lib/python3.12/site-packages/sklearn/cluster/_kmeans.py:1416: FutureWarning: The default value of `n_init` will change from 10 to 'auto' in 1.4. Set the value of `n_init` explicitly to suppress the warning\n",
      "  super()._check_params_vs_input(X, default_n_init=10)\n",
      "/home/joselopes/.local/lib/python3.12/site-packages/sklearn/cluster/_kmeans.py:1416: FutureWarning: The default value of `n_init` will change from 10 to 'auto' in 1.4. Set the value of `n_init` explicitly to suppress the warning\n",
      "  super()._check_params_vs_input(X, default_n_init=10)\n"
     ]
    }
   ],
   "source": [
    "\n",
    "for k in (2, 3, 4, 5):\n",
    "    KmeansCluster = KMeans(n_clusters=k, random_state=0)\n",
    "    kmeans = KmeansCluster.fit(X)\n",
    "    kmeans.labels_\n",
    "    print(kmeans.labels_)"
   ]
  }
 ],
 "metadata": {
  "kernelspec": {
   "display_name": "Python 3",
   "language": "python",
   "name": "python3"
  },
  "language_info": {
   "codemirror_mode": {
    "name": "ipython",
    "version": 3
   },
   "file_extension": ".py",
   "mimetype": "text/x-python",
   "name": "python",
   "nbconvert_exporter": "python",
   "pygments_lexer": "ipython3",
   "version": "3.12.0"
  }
 },
 "nbformat": 4,
 "nbformat_minor": 2
}

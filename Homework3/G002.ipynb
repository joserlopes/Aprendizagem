{
 "cells": [
  {
   "cell_type": "markdown",
   "metadata": {},
   "source": [
    "## 0) Loading Data"
   ]
  },
  {
   "cell_type": "code",
   "execution_count": 18,
   "metadata": {},
   "outputs": [],
   "source": [
    "import pandas as pd\n",
    "\n",
    "from sklearn.model_selection import train_test_split\n",
    "from sklearn.neural_network import MLPRegressor\n",
    "\n",
    "\n",
    "data = pd.read_csv(\"winequality-red.csv\", sep=\";\")\n",
    "\n",
    "X = data.drop(\"quality\", axis=1)\n",
    "y = data[\"quality\"]"
   ]
  },
  {
   "cell_type": "markdown",
   "metadata": {},
   "source": [
    "## Exercise 1"
   ]
  },
  {
   "cell_type": "code",
   "execution_count": 27,
   "metadata": {},
   "outputs": [
    {
     "ename": "TypeError",
     "evalue": "range() takes no keyword arguments",
     "output_type": "error",
     "traceback": [
      "\u001b[0;31m---------------------------------------------------------------------------\u001b[0m",
      "\u001b[0;31mTypeError\u001b[0m                                 Traceback (most recent call last)",
      "\u001b[1;32m/home/joselopes/Desktop/Zé/Técnico/Apre/Homeworks/Homework3/G002.ipynb Cell 4\u001b[0m line \u001b[0;36m3\n\u001b[1;32m      <a href='vscode-notebook-cell:/home/joselopes/Desktop/Z%C3%A9/T%C3%A9cnico/Apre/Homeworks/Homework3/G002.ipynb#W3sZmlsZQ%3D%3D?line=0'>1</a>\u001b[0m X_train, X_test, y_train, y_test \u001b[39m=\u001b[39m train_test_split(X, y, train_size\u001b[39m=\u001b[39m\u001b[39m0.8\u001b[39m, random_state\u001b[39m=\u001b[39m\u001b[39m0\u001b[39m, stratify\u001b[39m=\u001b[39my)\n\u001b[0;32m----> <a href='vscode-notebook-cell:/home/joselopes/Desktop/Z%C3%A9/T%C3%A9cnico/Apre/Homeworks/Homework3/G002.ipynb#W3sZmlsZQ%3D%3D?line=2'>3</a>\u001b[0m \u001b[39mfor\u001b[39;00m i \u001b[39min\u001b[39;00m \u001b[39mrange\u001b[39;49m(\u001b[39m1\u001b[39;49m, \u001b[39m11\u001b[39;49m, \u001b[39mreversed\u001b[39;49m\u001b[39m=\u001b[39;49m\u001b[39mTrue\u001b[39;49;00m):\n\u001b[1;32m      <a href='vscode-notebook-cell:/home/joselopes/Desktop/Z%C3%A9/T%C3%A9cnico/Apre/Homeworks/Homework3/G002.ipynb#W3sZmlsZQ%3D%3D?line=3'>4</a>\u001b[0m     mlp_regressor \u001b[39m=\u001b[39m MLPRegressor(hidden_layer_sizes\u001b[39m=\u001b[39m(\u001b[39m10\u001b[39m, \u001b[39m10\u001b[39m), activation\u001b[39m=\u001b[39m\u001b[39m\"\u001b[39m\u001b[39mrelu\u001b[39m\u001b[39m\"\u001b[39m, early_stopping\u001b[39m=\u001b[39m\u001b[39mTrue\u001b[39;00m, validation_fraction\u001b[39m=\u001b[39m\u001b[39m0.2\u001b[39m, random_state\u001b[39m=\u001b[39mi)\n",
      "\u001b[0;31mTypeError\u001b[0m: range() takes no keyword arguments"
     ]
    }
   ],
   "source": [
    "X_train, X_test, y_train, y_test = train_test_split(X, y, train_size=0.8, random_state=0, stratify=y)\n",
    "\n",
    "for i in range(1, 11):\n",
    "    mlp_regressor = MLPRegressor(hidden_layer_sizes=(10, 10), activation=\"relu\", early_stopping=True, validation_fraction=0.2, random_state=i)\n"
   ]
  }
 ],
 "metadata": {
  "kernelspec": {
   "display_name": "Python 3",
   "language": "python",
   "name": "python3"
  },
  "language_info": {
   "codemirror_mode": {
    "name": "ipython",
    "version": 3
   },
   "file_extension": ".py",
   "mimetype": "text/x-python",
   "name": "python",
   "nbconvert_exporter": "python",
   "pygments_lexer": "ipython3",
   "version": "3.12.0"
  }
 },
 "nbformat": 4,
 "nbformat_minor": 2
}

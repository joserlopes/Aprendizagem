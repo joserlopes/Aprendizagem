{
 "cells": [
  {
   "cell_type": "markdown",
   "metadata": {},
   "source": [
    "## 0) Loading Data"
   ]
  },
  {
   "cell_type": "code",
   "execution_count": 7,
   "metadata": {},
   "outputs": [],
   "source": [
    "import pandas as pd\n",
    "import numpy as np\n",
    "import seaborn as sns\n",
    "import matplotlib.pyplot as plt\n",
    "\n",
    "from sklearn.model_selection import train_test_split\n",
    "from sklearn.neural_network import MLPRegressor\n",
    "\n",
    "\n",
    "data = pd.read_csv(\"winequality-red.csv\", sep=\";\")\n",
    "\n",
    "X = data.drop(\"quality\", axis=1)\n",
    "y = data[\"quality\"]"
   ]
  },
  {
   "cell_type": "markdown",
   "metadata": {},
   "source": [
    "## Exercise 1"
   ]
  },
  {
   "cell_type": "markdown",
   "metadata": {},
   "source": [
    "# AQUI NÃO É PRECISO FAZER A MÉDIA E CADA \"RUN\" CONTA PARA UM HISTOGRAMA FINAL"
   ]
  },
  {
   "cell_type": "code",
   "execution_count": 15,
   "metadata": {},
   "outputs": [
    {
     "name": "stderr",
     "output_type": "stream",
     "text": [
      "/home/joselopes/.local/lib/python3.12/site-packages/sklearn/neural_network/_multilayer_perceptron.py:691: ConvergenceWarning: Stochastic Optimizer: Maximum iterations (200) reached and the optimization hasn't converged yet.\n",
      "  warnings.warn(\n",
      "/home/joselopes/.local/lib/python3.12/site-packages/sklearn/neural_network/_multilayer_perceptron.py:691: ConvergenceWarning: Stochastic Optimizer: Maximum iterations (200) reached and the optimization hasn't converged yet.\n",
      "  warnings.warn(\n",
      "/home/joselopes/.local/lib/python3.12/site-packages/sklearn/neural_network/_multilayer_perceptron.py:691: ConvergenceWarning: Stochastic Optimizer: Maximum iterations (200) reached and the optimization hasn't converged yet.\n",
      "  warnings.warn(\n",
      "/home/joselopes/.local/lib/python3.12/site-packages/sklearn/neural_network/_multilayer_perceptron.py:691: ConvergenceWarning: Stochastic Optimizer: Maximum iterations (200) reached and the optimization hasn't converged yet.\n",
      "  warnings.warn(\n",
      "/home/joselopes/.local/lib/python3.12/site-packages/sklearn/neural_network/_multilayer_perceptron.py:691: ConvergenceWarning: Stochastic Optimizer: Maximum iterations (200) reached and the optimization hasn't converged yet.\n",
      "  warnings.warn(\n",
      "/home/joselopes/.local/lib/python3.12/site-packages/sklearn/neural_network/_multilayer_perceptron.py:691: ConvergenceWarning: Stochastic Optimizer: Maximum iterations (200) reached and the optimization hasn't converged yet.\n",
      "  warnings.warn(\n",
      "/home/joselopes/.local/lib/python3.12/site-packages/sklearn/neural_network/_multilayer_perceptron.py:691: ConvergenceWarning: Stochastic Optimizer: Maximum iterations (200) reached and the optimization hasn't converged yet.\n",
      "  warnings.warn(\n"
     ]
    },
    {
     "name": "stdout",
     "output_type": "stream",
     "text": [
      "[[[0.         0.         0.         ... 0.         0.         0.        ]\n",
      "  [0.2171165  0.04706385 0.13892731 ... 0.09026564 0.40851307 0.04284469]\n",
      "  [0.18089851 0.14932062 0.1480995  ... 0.05727487 0.18100181 0.13599326]\n",
      "  ...\n",
      "  [0.08664354 0.07552875 0.12465835 ... 0.04836008 0.12914618 0.09758352]\n",
      "  [0.34496793 0.11488094 0.08493878 ... 0.10250593 0.15849147 0.15659239]\n",
      "  [0.19248798 0.0074773  0.12786455 ... 0.01612547 0.0323872  0.11076657]]\n",
      "\n",
      " [[0.2171165  0.04706385 0.13892731 ... 0.09026564 0.40851307 0.04284469]\n",
      "  [0.         0.         0.         ... 0.         0.         0.        ]\n",
      "  [0.03621799 0.10225677 0.2870268  ... 0.03299077 0.22751127 0.09314857]\n",
      "  ...\n",
      "  [0.30376004 0.1225926  0.26358566 ... 0.04190556 0.27936689 0.05473882]\n",
      "  [0.12785143 0.06781709 0.22386609 ... 0.0122403  0.2500216  0.11374769]\n",
      "  [0.02462852 0.03958655 0.26679185 ... 0.10639111 0.37612587 0.06792188]]\n",
      "\n",
      " [[0.18089851 0.14932062 0.1480995  ... 0.05727487 0.18100181 0.13599326]\n",
      "  [0.03621799 0.10225677 0.2870268  ... 0.03299077 0.22751127 0.09314857]\n",
      "  [0.         0.         0.         ... 0.         0.         0.        ]\n",
      "  ...\n",
      "  [0.26754205 0.22484937 0.02344115 ... 0.00891479 0.05185562 0.03840974]\n",
      "  [0.16406942 0.03443968 0.06316072 ... 0.04523107 0.02251033 0.02059913]\n",
      "  [0.01158947 0.14184332 0.02023495 ... 0.07340034 0.1486146  0.02522669]]\n",
      "\n",
      " ...\n",
      "\n",
      " [[0.08664354 0.07552875 0.12465835 ... 0.04836008 0.12914618 0.09758352]\n",
      "  [0.30376004 0.1225926  0.26358566 ... 0.04190556 0.27936689 0.05473882]\n",
      "  [0.26754205 0.22484937 0.02344115 ... 0.00891479 0.05185562 0.03840974]\n",
      "  ...\n",
      "  [0.         0.         0.         ... 0.         0.         0.        ]\n",
      "  [0.43161147 0.19040969 0.03971957 ... 0.05414586 0.02934529 0.05900887]\n",
      "  [0.27913152 0.08300605 0.0032062  ... 0.06448555 0.09675898 0.01318306]]\n",
      "\n",
      " [[0.34496793 0.11488094 0.08493878 ... 0.10250593 0.15849147 0.15659239]\n",
      "  [0.12785143 0.06781709 0.22386609 ... 0.0122403  0.2500216  0.11374769]\n",
      "  [0.16406942 0.03443968 0.06316072 ... 0.04523107 0.02251033 0.02059913]\n",
      "  ...\n",
      "  [0.43161147 0.19040969 0.03971957 ... 0.05414586 0.02934529 0.05900887]\n",
      "  [0.         0.         0.         ... 0.         0.         0.        ]\n",
      "  [0.15247995 0.10740363 0.04292577 ... 0.11863141 0.12610427 0.04582581]]\n",
      "\n",
      " [[0.19248798 0.0074773  0.12786455 ... 0.01612547 0.0323872  0.11076657]\n",
      "  [0.02462852 0.03958655 0.26679185 ... 0.10639111 0.37612587 0.06792188]\n",
      "  [0.01158947 0.14184332 0.02023495 ... 0.07340034 0.1486146  0.02522669]\n",
      "  ...\n",
      "  [0.27913152 0.08300605 0.0032062  ... 0.06448555 0.09675898 0.01318306]\n",
      "  [0.15247995 0.10740363 0.04292577 ... 0.11863141 0.12610427 0.04582581]\n",
      "  [0.         0.         0.         ... 0.         0.         0.        ]]]\n"
     ]
    },
    {
     "ename": "ValueError",
     "evalue": "Must pass 2-d input. shape=(10, 10, 320)",
     "output_type": "error",
     "traceback": [
      "\u001b[0;31m---------------------------------------------------------------------------\u001b[0m",
      "\u001b[0;31mValueError\u001b[0m                                Traceback (most recent call last)",
      "\u001b[1;32m/home/joselopes/Desktop/Zé/Técnico/Apre/Homeworks/Homework3/G002.ipynb Cell 5\u001b[0m line \u001b[0;36m1\n\u001b[1;32m     <a href='vscode-notebook-cell:/home/joselopes/Desktop/Z%C3%A9/T%C3%A9cnico/Apre/Homeworks/Homework3/G002.ipynb#W3sZmlsZQ%3D%3D?line=15'>16</a>\u001b[0m residues \u001b[39m=\u001b[39m np\u001b[39m.\u001b[39marray(residues)\n\u001b[1;32m     <a href='vscode-notebook-cell:/home/joselopes/Desktop/Z%C3%A9/T%C3%A9cnico/Apre/Homeworks/Homework3/G002.ipynb#W3sZmlsZQ%3D%3D?line=16'>17</a>\u001b[0m \u001b[39mprint\u001b[39m(residues)\n\u001b[0;32m---> <a href='vscode-notebook-cell:/home/joselopes/Desktop/Z%C3%A9/T%C3%A9cnico/Apre/Homeworks/Homework3/G002.ipynb#W3sZmlsZQ%3D%3D?line=17'>18</a>\u001b[0m sns\u001b[39m.\u001b[39;49mhistplot(data\u001b[39m=\u001b[39;49mresidues)\n\u001b[1;32m     <a href='vscode-notebook-cell:/home/joselopes/Desktop/Z%C3%A9/T%C3%A9cnico/Apre/Homeworks/Homework3/G002.ipynb#W3sZmlsZQ%3D%3D?line=18'>19</a>\u001b[0m plt\u001b[39m.\u001b[39mxlabel(\u001b[39m\"\u001b[39m\u001b[39mResidual difference\u001b[39m\u001b[39m\"\u001b[39m)\n\u001b[1;32m     <a href='vscode-notebook-cell:/home/joselopes/Desktop/Z%C3%A9/T%C3%A9cnico/Apre/Homeworks/Homework3/G002.ipynb#W3sZmlsZQ%3D%3D?line=19'>20</a>\u001b[0m plt\u001b[39m.\u001b[39mshow()\n",
      "File \u001b[0;32m~/.local/lib/python3.12/site-packages/seaborn/distributions.py:1379\u001b[0m, in \u001b[0;36mhistplot\u001b[0;34m(data, x, y, hue, weights, stat, bins, binwidth, binrange, discrete, cumulative, common_bins, common_norm, multiple, element, fill, shrink, kde, kde_kws, line_kws, thresh, pthresh, pmax, cbar, cbar_ax, cbar_kws, palette, hue_order, hue_norm, color, log_scale, legend, ax, **kwargs)\u001b[0m\n\u001b[1;32m   1358\u001b[0m \u001b[39mdef\u001b[39;00m \u001b[39mhistplot\u001b[39m(\n\u001b[1;32m   1359\u001b[0m     data\u001b[39m=\u001b[39m\u001b[39mNone\u001b[39;00m, \u001b[39m*\u001b[39m,\n\u001b[1;32m   1360\u001b[0m     \u001b[39m# Vector variables\u001b[39;00m\n\u001b[0;32m   (...)\u001b[0m\n\u001b[1;32m   1376\u001b[0m     \u001b[39m*\u001b[39m\u001b[39m*\u001b[39mkwargs,\n\u001b[1;32m   1377\u001b[0m ):\n\u001b[0;32m-> 1379\u001b[0m     p \u001b[39m=\u001b[39m _DistributionPlotter(\n\u001b[1;32m   1380\u001b[0m         data\u001b[39m=\u001b[39;49mdata,\n\u001b[1;32m   1381\u001b[0m         variables\u001b[39m=\u001b[39;49m\u001b[39mdict\u001b[39;49m(x\u001b[39m=\u001b[39;49mx, y\u001b[39m=\u001b[39;49my, hue\u001b[39m=\u001b[39;49mhue, weights\u001b[39m=\u001b[39;49mweights),\n\u001b[1;32m   1382\u001b[0m     )\n\u001b[1;32m   1384\u001b[0m     p\u001b[39m.\u001b[39mmap_hue(palette\u001b[39m=\u001b[39mpalette, order\u001b[39m=\u001b[39mhue_order, norm\u001b[39m=\u001b[39mhue_norm)\n\u001b[1;32m   1386\u001b[0m     \u001b[39mif\u001b[39;00m ax \u001b[39mis\u001b[39;00m \u001b[39mNone\u001b[39;00m:\n",
      "File \u001b[0;32m~/.local/lib/python3.12/site-packages/seaborn/distributions.py:110\u001b[0m, in \u001b[0;36m_DistributionPlotter.__init__\u001b[0;34m(self, data, variables)\u001b[0m\n\u001b[1;32m    104\u001b[0m \u001b[39mdef\u001b[39;00m \u001b[39m__init__\u001b[39m(\n\u001b[1;32m    105\u001b[0m     \u001b[39mself\u001b[39m,\n\u001b[1;32m    106\u001b[0m     data\u001b[39m=\u001b[39m\u001b[39mNone\u001b[39;00m,\n\u001b[1;32m    107\u001b[0m     variables\u001b[39m=\u001b[39m{},\n\u001b[1;32m    108\u001b[0m ):\n\u001b[0;32m--> 110\u001b[0m     \u001b[39msuper\u001b[39;49m()\u001b[39m.\u001b[39;49m\u001b[39m__init__\u001b[39;49m(data\u001b[39m=\u001b[39;49mdata, variables\u001b[39m=\u001b[39;49mvariables)\n",
      "File \u001b[0;32m~/.local/lib/python3.12/site-packages/seaborn/_base.py:634\u001b[0m, in \u001b[0;36mVectorPlotter.__init__\u001b[0;34m(self, data, variables)\u001b[0m\n\u001b[1;32m    629\u001b[0m \u001b[39m# var_ordered is relevant only for categorical axis variables, and may\u001b[39;00m\n\u001b[1;32m    630\u001b[0m \u001b[39m# be better handled by an internal axis information object that tracks\u001b[39;00m\n\u001b[1;32m    631\u001b[0m \u001b[39m# such information and is set up by the scale_* methods. The analogous\u001b[39;00m\n\u001b[1;32m    632\u001b[0m \u001b[39m# information for numeric axes would be information about log scales.\u001b[39;00m\n\u001b[1;32m    633\u001b[0m \u001b[39mself\u001b[39m\u001b[39m.\u001b[39m_var_ordered \u001b[39m=\u001b[39m {\u001b[39m\"\u001b[39m\u001b[39mx\u001b[39m\u001b[39m\"\u001b[39m: \u001b[39mFalse\u001b[39;00m, \u001b[39m\"\u001b[39m\u001b[39my\u001b[39m\u001b[39m\"\u001b[39m: \u001b[39mFalse\u001b[39;00m}  \u001b[39m# alt., used DefaultDict\u001b[39;00m\n\u001b[0;32m--> 634\u001b[0m \u001b[39mself\u001b[39;49m\u001b[39m.\u001b[39;49massign_variables(data, variables)\n\u001b[1;32m    636\u001b[0m \u001b[39m# TODO Lots of tests assume that these are called to initialize the\u001b[39;00m\n\u001b[1;32m    637\u001b[0m \u001b[39m# mappings to default values on class initialization. I'd prefer to\u001b[39;00m\n\u001b[1;32m    638\u001b[0m \u001b[39m# move away from that and only have a mapping when explicitly called.\u001b[39;00m\n\u001b[1;32m    639\u001b[0m \u001b[39mfor\u001b[39;00m var \u001b[39min\u001b[39;00m [\u001b[39m\"\u001b[39m\u001b[39mhue\u001b[39m\u001b[39m\"\u001b[39m, \u001b[39m\"\u001b[39m\u001b[39msize\u001b[39m\u001b[39m\"\u001b[39m, \u001b[39m\"\u001b[39m\u001b[39mstyle\u001b[39m\u001b[39m\"\u001b[39m]:\n",
      "File \u001b[0;32m~/.local/lib/python3.12/site-packages/seaborn/_base.py:673\u001b[0m, in \u001b[0;36mVectorPlotter.assign_variables\u001b[0;34m(self, data, variables)\u001b[0m\n\u001b[1;32m    671\u001b[0m \u001b[39mif\u001b[39;00m x \u001b[39mis\u001b[39;00m \u001b[39mNone\u001b[39;00m \u001b[39mand\u001b[39;00m y \u001b[39mis\u001b[39;00m \u001b[39mNone\u001b[39;00m:\n\u001b[1;32m    672\u001b[0m     \u001b[39mself\u001b[39m\u001b[39m.\u001b[39minput_format \u001b[39m=\u001b[39m \u001b[39m\"\u001b[39m\u001b[39mwide\u001b[39m\u001b[39m\"\u001b[39m\n\u001b[0;32m--> 673\u001b[0m     frame, names \u001b[39m=\u001b[39m \u001b[39mself\u001b[39;49m\u001b[39m.\u001b[39;49m_assign_variables_wideform(data, \u001b[39m*\u001b[39;49m\u001b[39m*\u001b[39;49mvariables)\n\u001b[1;32m    674\u001b[0m \u001b[39melse\u001b[39;00m:\n\u001b[1;32m    675\u001b[0m     \u001b[39m# When dealing with long-form input, use the newer PlotData\u001b[39;00m\n\u001b[1;32m    676\u001b[0m     \u001b[39m# object (internal but introduced for the objects interface)\u001b[39;00m\n\u001b[1;32m    677\u001b[0m     \u001b[39m# to centralize / standardize data consumption logic.\u001b[39;00m\n\u001b[1;32m    678\u001b[0m     \u001b[39mself\u001b[39m\u001b[39m.\u001b[39minput_format \u001b[39m=\u001b[39m \u001b[39m\"\u001b[39m\u001b[39mlong\u001b[39m\u001b[39m\"\u001b[39m\n",
      "File \u001b[0;32m~/.local/lib/python3.12/site-packages/seaborn/_base.py:792\u001b[0m, in \u001b[0;36mVectorPlotter._assign_variables_wideform\u001b[0;34m(self, data, **kwargs)\u001b[0m\n\u001b[1;32m    786\u001b[0m     data \u001b[39m=\u001b[39m {key: pd\u001b[39m.\u001b[39mSeries(val) \u001b[39mfor\u001b[39;00m key, val \u001b[39min\u001b[39;00m data\u001b[39m.\u001b[39mitems()}\n\u001b[1;32m    788\u001b[0m \u001b[39m# Otherwise, delegate to the pandas DataFrame constructor\u001b[39;00m\n\u001b[1;32m    789\u001b[0m \u001b[39m# This is where we'd prefer to use a general interface that says\u001b[39;00m\n\u001b[1;32m    790\u001b[0m \u001b[39m# \"give me this data as a pandas DataFrame\", so we can accept\u001b[39;00m\n\u001b[1;32m    791\u001b[0m \u001b[39m# DataFrame objects from other libraries\u001b[39;00m\n\u001b[0;32m--> 792\u001b[0m wide_data \u001b[39m=\u001b[39m pd\u001b[39m.\u001b[39;49mDataFrame(data, copy\u001b[39m=\u001b[39;49m\u001b[39mTrue\u001b[39;49;00m)\n\u001b[1;32m    794\u001b[0m \u001b[39m# At this point we should reduce the dataframe to numeric cols\u001b[39;00m\n\u001b[1;32m    795\u001b[0m numeric_cols \u001b[39m=\u001b[39m [\n\u001b[1;32m    796\u001b[0m     k \u001b[39mfor\u001b[39;00m k, v \u001b[39min\u001b[39;00m wide_data\u001b[39m.\u001b[39mitems() \u001b[39mif\u001b[39;00m variable_type(v) \u001b[39m==\u001b[39m \u001b[39m\"\u001b[39m\u001b[39mnumeric\u001b[39m\u001b[39m\"\u001b[39m\n\u001b[1;32m    797\u001b[0m ]\n",
      "File \u001b[0;32m~/.local/lib/python3.12/site-packages/pandas/core/frame.py:785\u001b[0m, in \u001b[0;36mDataFrame.__init__\u001b[0;34m(self, data, index, columns, dtype, copy)\u001b[0m\n\u001b[1;32m    774\u001b[0m         mgr \u001b[39m=\u001b[39m dict_to_mgr(\n\u001b[1;32m    775\u001b[0m             \u001b[39m# error: Item \"ndarray\" of \"Union[ndarray, Series, Index]\" has no\u001b[39;00m\n\u001b[1;32m    776\u001b[0m             \u001b[39m# attribute \"name\"\u001b[39;00m\n\u001b[0;32m   (...)\u001b[0m\n\u001b[1;32m    782\u001b[0m             copy\u001b[39m=\u001b[39m_copy,\n\u001b[1;32m    783\u001b[0m         )\n\u001b[1;32m    784\u001b[0m     \u001b[39melse\u001b[39;00m:\n\u001b[0;32m--> 785\u001b[0m         mgr \u001b[39m=\u001b[39m ndarray_to_mgr(\n\u001b[1;32m    786\u001b[0m             data,\n\u001b[1;32m    787\u001b[0m             index,\n\u001b[1;32m    788\u001b[0m             columns,\n\u001b[1;32m    789\u001b[0m             dtype\u001b[39m=\u001b[39;49mdtype,\n\u001b[1;32m    790\u001b[0m             copy\u001b[39m=\u001b[39;49mcopy,\n\u001b[1;32m    791\u001b[0m             typ\u001b[39m=\u001b[39;49mmanager,\n\u001b[1;32m    792\u001b[0m         )\n\u001b[1;32m    794\u001b[0m \u001b[39m# For data is list-like, or Iterable (will consume into list)\u001b[39;00m\n\u001b[1;32m    795\u001b[0m \u001b[39melif\u001b[39;00m is_list_like(data):\n",
      "File \u001b[0;32m~/.local/lib/python3.12/site-packages/pandas/core/internals/construction.py:314\u001b[0m, in \u001b[0;36mndarray_to_mgr\u001b[0;34m(values, index, columns, dtype, copy, typ)\u001b[0m\n\u001b[1;32m    308\u001b[0m     _copy \u001b[39m=\u001b[39m (\n\u001b[1;32m    309\u001b[0m         copy_on_sanitize\n\u001b[1;32m    310\u001b[0m         \u001b[39mif\u001b[39;00m (dtype \u001b[39mis\u001b[39;00m \u001b[39mNone\u001b[39;00m \u001b[39mor\u001b[39;00m astype_is_view(values\u001b[39m.\u001b[39mdtype, dtype))\n\u001b[1;32m    311\u001b[0m         \u001b[39melse\u001b[39;00m \u001b[39mFalse\u001b[39;00m\n\u001b[1;32m    312\u001b[0m     )\n\u001b[1;32m    313\u001b[0m     values \u001b[39m=\u001b[39m np\u001b[39m.\u001b[39marray(values, copy\u001b[39m=\u001b[39m_copy)\n\u001b[0;32m--> 314\u001b[0m     values \u001b[39m=\u001b[39m _ensure_2d(values)\n\u001b[1;32m    316\u001b[0m \u001b[39melse\u001b[39;00m:\n\u001b[1;32m    317\u001b[0m     \u001b[39m# by definition an array here\u001b[39;00m\n\u001b[1;32m    318\u001b[0m     \u001b[39m# the dtypes will be coerced to a single dtype\u001b[39;00m\n\u001b[1;32m    319\u001b[0m     values \u001b[39m=\u001b[39m _prep_ndarraylike(values, copy\u001b[39m=\u001b[39mcopy_on_sanitize)\n",
      "File \u001b[0;32m~/.local/lib/python3.12/site-packages/pandas/core/internals/construction.py:592\u001b[0m, in \u001b[0;36m_ensure_2d\u001b[0;34m(values)\u001b[0m\n\u001b[1;32m    590\u001b[0m     values \u001b[39m=\u001b[39m values\u001b[39m.\u001b[39mreshape((values\u001b[39m.\u001b[39mshape[\u001b[39m0\u001b[39m], \u001b[39m1\u001b[39m))\n\u001b[1;32m    591\u001b[0m \u001b[39melif\u001b[39;00m values\u001b[39m.\u001b[39mndim \u001b[39m!=\u001b[39m \u001b[39m2\u001b[39m:\n\u001b[0;32m--> 592\u001b[0m     \u001b[39mraise\u001b[39;00m \u001b[39mValueError\u001b[39;00m(\u001b[39mf\u001b[39m\u001b[39m\"\u001b[39m\u001b[39mMust pass 2-d input. shape=\u001b[39m\u001b[39m{\u001b[39;00mvalues\u001b[39m.\u001b[39mshape\u001b[39m}\u001b[39;00m\u001b[39m\"\u001b[39m)\n\u001b[1;32m    593\u001b[0m \u001b[39mreturn\u001b[39;00m values\n",
      "\u001b[0;31mValueError\u001b[0m: Must pass 2-d input. shape=(10, 10, 320)"
     ]
    }
   ],
   "source": [
    "X_train, X_test, y_train, y_test = train_test_split(X, y, train_size=0.8, random_state=0, stratify=y)\n",
    "\n",
    "regressor_scores = []\n",
    "residues = []\n",
    "for i in range(1, 11):\n",
    "    mlp_regressor = MLPRegressor(hidden_layer_sizes=(10, 10), activation=\"relu\", early_stopping=True, validation_fraction=0.2, random_state=i)\n",
    "    mlp_regressor.fit(X_train, y_train)\n",
    "    regressor_scores.append(mlp_regressor.predict(X_test))\n",
    "\n",
    "## regressor_scores = np.mean(regressor_scores, axis=0)\n",
    "\n",
    "for score in regressor_scores:\n",
    "    residue = list(map(lambda x: abs(x) , score - regressor_scores))\n",
    "    residues.append(residue)\n",
    "\n",
    "residues = np.array(residues).flatten()\n",
    "sns.histplot(data=residues)\n",
    "plt.xlabel(\"Residual difference\")\n",
    "plt.show()"
   ]
  }
 ],
 "metadata": {
  "kernelspec": {
   "display_name": "Python 3",
   "language": "python",
   "name": "python3"
  },
  "language_info": {
   "codemirror_mode": {
    "name": "ipython",
    "version": 3
   },
   "file_extension": ".py",
   "mimetype": "text/x-python",
   "name": "python",
   "nbconvert_exporter": "python",
   "pygments_lexer": "ipython3",
   "version": "3.12.0"
  }
 },
 "nbformat": 4,
 "nbformat_minor": 2
}

{
 "cells": [
  {
   "cell_type": "markdown",
   "metadata": {},
   "source": [
    "## 0) Loading Data"
   ]
  },
  {
   "cell_type": "code",
   "execution_count": 35,
   "metadata": {},
   "outputs": [],
   "source": [
    "import warnings\n",
    "import pandas as pd\n",
    "import numpy as np\n",
    "import seaborn as sns\n",
    "import matplotlib.pyplot as plt\n",
    "\n",
    "from sklearn.model_selection import train_test_split\n",
    "from sklearn.neural_network import MLPRegressor\n",
    "from sklearn.metrics import mean_absolute_error, mean_squared_error\n",
    "from sklearn.exceptions import ConvergenceWarning\n",
    "\n",
    "warnings.simplefilter(\"ignore\", category=ConvergenceWarning)\n",
    "\n",
    "data = pd.read_csv(\"winequality-red.csv\", sep=\";\")\n",
    "\n",
    "X = data.drop(\"quality\", axis=1)\n",
    "y = data[\"quality\"]"
   ]
  },
  {
   "cell_type": "markdown",
   "metadata": {},
   "source": [
    "## Exercise 1"
   ]
  },
  {
   "cell_type": "code",
   "execution_count": 36,
   "metadata": {},
   "outputs": [
    {
     "data": {
      "image/png": "[encoded data removed]",
      "text/plain": [
       "<Figure size 640x480 with 1 Axes>"
      ]
     },
     "metadata": {},
     "output_type": "display_data"
    }
   ],
   "source": [
    "X_train, X_test, y_train, y_test = train_test_split(X, y, train_size=0.8, random_state=0, stratify=y)\n",
    "\n",
    "regressor_pred = []\n",
    "residues = []\n",
    "normal_MAE = [] # this is for exercise 2\n",
    "normal_RMSE = [] # this is for exercise 3\n",
    "for i in range(1, 11):\n",
    "    mlp_regressor = MLPRegressor(hidden_layer_sizes=(10, 10), activation=\"relu\", early_stopping=True, validation_fraction=0.2, random_state=i)\n",
    "    mlp_regressor.fit(X_train, y_train)\n",
    "    y_pred = mlp_regressor.predict(X_test)\n",
    "    regressor_pred.append(y_pred)\n",
    "    normal_MAE.append(mean_absolute_error(y_test, y_pred))\n",
    "    normal_RMSE.append(np.sqrt(mean_squared_error(y_test, y_pred)))\n",
    "\n",
    "normal_MAE = round(np.mean(normal_MAE), 7)\n",
    "normal_RMSE = np.mean(normal_RMSE)\n",
    "\n",
    "for prediction in regressor_pred:\n",
    "    residue = list(map(lambda x: abs(x) , prediction - y_test))\n",
    "    residues.append(residue)\n",
    "\n",
    "residues = np.array(residues).flatten()\n",
    "sns.histplot(data=residues)\n",
    "plt.xlabel(\"Absolute residual difference\")\n",
    "plt.show()"
   ]
  },
  {
   "cell_type": "markdown",
   "metadata": {},
   "source": [
    "## Exercise 2"
   ]
  },
  {
   "cell_type": "code",
   "execution_count": 37,
   "metadata": {},
   "outputs": [
    {
     "name": "stdout",
     "output_type": "stream",
     "text": [
      "Normal MAE: 0.5437512\n",
      "Rounded MAE: 0.4928125\n"
     ]
    }
   ],
   "source": [
    "def round_bound(x):\n",
    "    new_x = round(x)\n",
    "    if new_x < 0:\n",
    "        return 0\n",
    "    if new_x > 10:\n",
    "        return 10\n",
    "    return new_x\n",
    "\n",
    "rounded_MAE = []\n",
    "\n",
    "for prediction in regressor_pred: \n",
    "    new_y_pred = list(map(lambda x: round_bound(x), prediction))\n",
    "    rounded_MAE.append(mean_absolute_error(y_test, new_y_pred))\n",
    "\n",
    "rounded_MAE = np.mean(rounded_MAE)\n",
    "\n",
    "print(f\"Normal MAE: {normal_MAE}\\nRounded MAE: {rounded_MAE}\")"
   ]
  },
  {
   "cell_type": "markdown",
   "metadata": {},
   "source": [
    "From what we can see, rounding and bounding the estimates had a positive impact in the learnt MLP regressor, since the MAE for the rounded estimates is lower than the normal one."
   ]
  },
  {
   "cell_type": "markdown",
   "metadata": {},
   "source": [
    "## Exercise 3"
   ]
  },
  {
   "cell_type": "code",
   "execution_count": 38,
   "metadata": {},
   "outputs": [
    {
     "name": "stdout",
     "output_type": "stream",
     "text": [
      "Normal RMSE: 0.7285645002031444      \n",
      "RMSE with 20 max iterations: 1.5741537078556829      \n",
      "RMSE with 50 max iterations: 0.9296215581878042      \n",
      "RMSE with 100 max iterations: 0.7495674512113977      \n",
      "RMSE with 200 max iterations: 0.697002682560151\n"
     ]
    }
   ],
   "source": [
    "rmse_20 = []\n",
    "rmse_50 = []\n",
    "rmse_100 = []\n",
    "rmse_200 = []\n",
    "\n",
    "for i in range(1, 11):\n",
    "    mlp_regressor_20 = MLPRegressor(hidden_layer_sizes=(10, 10), activation=\"relu\", max_iter=20, random_state=i)\n",
    "    mlp_regressor_50 = MLPRegressor(hidden_layer_sizes=(10, 10), activation=\"relu\", max_iter=50, random_state=i)\n",
    "    mlp_regressor_100 = MLPRegressor(hidden_layer_sizes=(10, 10), activation=\"relu\", max_iter=100, random_state=i)\n",
    "    mlp_regressor_200 = MLPRegressor(hidden_layer_sizes=(10, 10), activation=\"relu\", max_iter=200, random_state=i)\n",
    "    mlp_regressor_20.fit(X_train, y_train)\n",
    "    mlp_regressor_50.fit(X_train, y_train)\n",
    "    mlp_regressor_100.fit(X_train, y_train)\n",
    "    mlp_regressor_200.fit(X_train, y_train)\n",
    "    y20_pred = mlp_regressor_20.predict(X_test)\n",
    "    y50_pred = mlp_regressor_50.predict(X_test)\n",
    "    y100_pred = mlp_regressor_100.predict(X_test)\n",
    "    y200_pred = mlp_regressor_200.predict(X_test)\n",
    "    rmse_20.append(np.sqrt(mean_squared_error(y_test, y20_pred)))\n",
    "    rmse_50.append(np.sqrt(mean_squared_error(y_test, y50_pred)))\n",
    "    rmse_100.append(np.sqrt(mean_squared_error(y_test, y100_pred)))\n",
    "    rmse_200.append(np.sqrt(mean_squared_error(y_test, y200_pred)))\n",
    "\n",
    "rmse_20 = np.mean(rmse_20)\n",
    "rmse_50 = np.mean(rmse_50)\n",
    "rmse_100 = np.mean(rmse_100)\n",
    "rmse_200 = np.mean(rmse_200)\n",
    "\n",
    "print(f\"Normal RMSE: {normal_RMSE}\\\n",
    "      \\nRMSE with 20 max iterations: {rmse_20}\\\n",
    "      \\nRMSE with 50 max iterations: {rmse_50}\\\n",
    "      \\nRMSE with 100 max iterations: {rmse_100}\\\n",
    "      \\nRMSE with 200 max iterations: {rmse_200}\")\n"
   ]
  },
  {
   "cell_type": "markdown",
   "metadata": {},
   "source": [
    "## Exercise 4"
   ]
  }
 ],
 "metadata": {
  "kernelspec": {
   "display_name": "Python 3",
   "language": "python",
   "name": "python3"
  },
  "language_info": {
   "codemirror_mode": {
    "name": "ipython",
    "version": 3
   },
   "file_extension": ".py",
   "mimetype": "text/x-python",
   "name": "python",
   "nbconvert_exporter": "python",
   "pygments_lexer": "ipython3",
   "version": "3.12.0"
  }
 },
 "nbformat": 4,
 "nbformat_minor": 2
}
